{
 "cells": [
  {
   "cell_type": "code",
   "execution_count": null,
   "metadata": {},
   "outputs": [],
   "source": [
    "import cv2\n",
    "from pyzbar.pyzbar import decode\n",
    "v=cv2.VideoCapture(0)\n",
    "cv2.namedWindow(\"test\")\n",
    "while(True):\n",
    "    r,f=v.read()\n",
    "    cv2.imshow(\"Test\",f)\n",
    "    k=cv2.waitKey(1)\n",
    "    if k%256==27:\n",
    "        print(\"Escape hit,closing...\")\n",
    "        break\n",
    "    print(f)\n",
    "v.release()\n",
    "cv2.destroyAllWindows()"
   ]
  },
  {
   "cell_type": "code",
   "execution_count": 4,
   "metadata": {},
   "outputs": [
    {
     "name": "stdout",
     "output_type": "stream",
     "text": [
      "Faizan\n"
     ]
    }
   ],
   "source": [
    "import cv2\n",
    "from pyzbar.pyzbar import decode\n",
    "img=cv2.imread(\"C:\\\\Users\\\\FAIZAN\\\\Desktop\\\\ProImage\\\\qr.png\")\n",
    "code=decode(img)\n",
    "data=code[0][0]\n",
    "data=data.decode(\"UTF-8\")\n",
    "print(data)"
   ]
  },
  {
   "cell_type": "code",
   "execution_count": 2,
   "metadata": {},
   "outputs": [
    {
     "name": "stdout",
     "output_type": "stream",
     "text": [
      "https://wa.me/qr/MO4GUGMPRAPUM1\n",
      "https://wa.me/qr/MO4GUGMPRAPUM1\n",
      "https://wa.me/qr/MO4GUGMPRAPUM1\n",
      "https://wa.me/qr/MO4GUGMPRAPUM1\n",
      "https://wa.me/qr/MO4GUGMPRAPUM1\n",
      "https://wa.me/qr/MO4GUGMPRAPUM1\n",
      "https://wa.me/qr/MO4GUGMPRAPUM1\n",
      "https://wa.me/qr/MO4GUGMPRAPUM1\n",
      "https://wa.me/qr/MO4GUGMPRAPUM1\n",
      "https://wa.me/qr/MO4GUGMPRAPUM1\n",
      "Escape hit,closing...\n"
     ]
    }
   ],
   "source": [
    "import cv2\n",
    "import numpy as np\n",
    "from pyzbar.pyzbar import decode\n",
    "\n",
    "cap=cv2.VideoCapture(0)\n",
    "cap.set(3,640)\n",
    "cap.set(4,480)\n",
    "while(True):\n",
    "    b,img=cap.read()\n",
    "    for barcode in decode(img):\n",
    "        mydata=barcode.data.decode('UTF-8')\n",
    "        print(mydata)\n",
    "        p=np.array([barcode.polygon],np.int32)\n",
    "        p=p.reshape((-1,1,2))\n",
    "        cv2.polylines(img,[p],True,(255,0,255),5)\n",
    "        \n",
    "        #print(barcode.data)\n",
    "    cv2.imshow(\"result\",img)\n",
    "    k=cv2.waitKey(1)\n",
    "    if k%256==27:\n",
    "        print(\"Escape hit,closing...\")\n",
    "        break\n",
    "cap.release()\n",
    "cv2.destroyAllWindows()"
   ]
  },
  {
   "cell_type": "code",
   "execution_count": null,
   "metadata": {},
   "outputs": [],
   "source": []
  },
  {
   "cell_type": "code",
   "execution_count": null,
   "metadata": {},
   "outputs": [],
   "source": []
  }
 ],
 "metadata": {
  "kernelspec": {
   "display_name": "Python 3",
   "language": "python",
   "name": "python3"
  },
  "language_info": {
   "codemirror_mode": {
    "name": "ipython",
    "version": 3
   },
   "file_extension": ".py",
   "mimetype": "text/x-python",
   "name": "python",
   "nbconvert_exporter": "python",
   "pygments_lexer": "ipython3",
   "version": "3.7.1"
  }
 },
 "nbformat": 4,
 "nbformat_minor": 2
}
